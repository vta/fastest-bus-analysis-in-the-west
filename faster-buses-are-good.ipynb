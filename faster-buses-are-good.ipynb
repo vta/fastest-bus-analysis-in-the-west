{
 "cells": [
  {
   "cell_type": "markdown",
   "metadata": {},
   "source": [
    "Grab relevant information for bus stops for a specific route, join the data together."
   ]
  },
  {
   "cell_type": "code",
   "execution_count": 1,
   "metadata": {},
   "outputs": [],
   "source": [
    "import requests\n",
    "import pandas as pd\n",
    "import glob\n",
    "import json\n",
    "import time\n",
    "import os\n",
    "import platform\n",
    "from analysis_functions import *\n",
    "\n",
    "with open('config.json', 'r') as f:\n",
    "    config = json.load(f)\n",
    "\n",
    "SWIFTLY_API_KEY = config['DEFAULT']['SWIFTLY_API_KEY']\n",
    "MSSQL_USERNAME = config['DEFAULT']['MSSQL_USERNAME']\n",
    "MSSQL_PASSWORD = config['DEFAULT']['MSSQL_PASSWORD']\n",
    "\n",
    "if platform.system() == 'Darwin':\n",
    "    import pymssql\n",
    "    connection = pymssql.connect(server='ELTDBPRD\\ELTDBPRD', user=MSSQL_USERNAME, password=MSSQL_PASSWORD, database='ACS_13')\n",
    "elif platform.system() == 'Windows':\n",
    "    import pyodbc\n",
    "    connection_string = 'DRIVER={SQL Server};SERVER=ELTDBPRD\\ELTDBPRD;DATABASE=ACS_13;UID=%s;PWD=%s' % (MSSQL_USERNAME, MSSQL_PASSWORD)\n",
    "    connection = pyodbc.connect(connection_string)\n",
    "\n",
    "\n",
    "# DEBUG = True\n",
    "\n",
    "days_to_consider = [2,3,4,5,9,10,11,12,16,17,18,19,23,24,25,26,30]"
   ]
  },
  {
   "cell_type": "code",
   "execution_count": 2,
   "metadata": {},
   "outputs": [],
   "source": [
    "line_number = 22"
   ]
  },
  {
   "cell_type": "code",
   "execution_count": null,
   "metadata": {
    "scrolled": true
   },
   "outputs": [
    {
     "data": {
      "text/html": [
       "<div>\n",
       "<style scoped>\n",
       "    .dataframe tbody tr th:only-of-type {\n",
       "        vertical-align: middle;\n",
       "    }\n",
       "\n",
       "    .dataframe tbody tr th {\n",
       "        vertical-align: top;\n",
       "    }\n",
       "\n",
       "    .dataframe thead th {\n",
       "        text-align: right;\n",
       "    }\n",
       "</style>\n",
       "<table border=\"1\" class=\"dataframe\">\n",
       "  <thead>\n",
       "    <tr style=\"text-align: right;\">\n",
       "      <th></th>\n",
       "      <th>STOP_ID</th>\n",
       "      <th>DIRECTION_NAME</th>\n",
       "      <th>TIME_PERIOD</th>\n",
       "      <th>ALIGHT_ALL</th>\n",
       "      <th>AVG_SERVICED</th>\n",
       "      <th>BOARD_ALL</th>\n",
       "      <th>LOAD_ALL</th>\n",
       "      <th>SORT_ORDER</th>\n",
       "      <th>TIME_PERIOD_SORT</th>\n",
       "    </tr>\n",
       "  </thead>\n",
       "  <tbody>\n",
       "    <tr>\n",
       "      <th>186</th>\n",
       "      <td>328</td>\n",
       "      <td>EAST</td>\n",
       "      <td>AM Early</td>\n",
       "      <td>0.49</td>\n",
       "      <td>0.99</td>\n",
       "      <td>43.87</td>\n",
       "      <td>43.99</td>\n",
       "      <td>10</td>\n",
       "      <td>1</td>\n",
       "    </tr>\n",
       "    <tr>\n",
       "      <th>192</th>\n",
       "      <td>329</td>\n",
       "      <td>EAST</td>\n",
       "      <td>AM Early</td>\n",
       "      <td>0.00</td>\n",
       "      <td>0.19</td>\n",
       "      <td>0.64</td>\n",
       "      <td>44.62</td>\n",
       "      <td>20</td>\n",
       "      <td>1</td>\n",
       "    </tr>\n",
       "    <tr>\n",
       "      <th>198</th>\n",
       "      <td>330</td>\n",
       "      <td>EAST</td>\n",
       "      <td>AM Early</td>\n",
       "      <td>0.00</td>\n",
       "      <td>0.05</td>\n",
       "      <td>0.16</td>\n",
       "      <td>44.79</td>\n",
       "      <td>30</td>\n",
       "      <td>1</td>\n",
       "    </tr>\n",
       "    <tr>\n",
       "      <th>204</th>\n",
       "      <td>331</td>\n",
       "      <td>EAST</td>\n",
       "      <td>AM Early</td>\n",
       "      <td>0.00</td>\n",
       "      <td>0.01</td>\n",
       "      <td>0.04</td>\n",
       "      <td>44.83</td>\n",
       "      <td>40</td>\n",
       "      <td>1</td>\n",
       "    </tr>\n",
       "    <tr>\n",
       "      <th>210</th>\n",
       "      <td>332</td>\n",
       "      <td>EAST</td>\n",
       "      <td>AM Early</td>\n",
       "      <td>0.00</td>\n",
       "      <td>0.00</td>\n",
       "      <td>0.00</td>\n",
       "      <td>44.83</td>\n",
       "      <td>50</td>\n",
       "      <td>1</td>\n",
       "    </tr>\n",
       "  </tbody>\n",
       "</table>\n",
       "</div>"
      ],
      "text/plain": [
       "     STOP_ID DIRECTION_NAME TIME_PERIOD  ALIGHT_ALL  AVG_SERVICED  BOARD_ALL  \\\n",
       "186      328           EAST    AM Early        0.49          0.99      43.87   \n",
       "192      329           EAST    AM Early        0.00          0.19       0.64   \n",
       "198      330           EAST    AM Early        0.00          0.05       0.16   \n",
       "204      331           EAST    AM Early        0.00          0.01       0.04   \n",
       "210      332           EAST    AM Early        0.00          0.00       0.00   \n",
       "\n",
       "     LOAD_ALL  SORT_ORDER  TIME_PERIOD_SORT  \n",
       "186     43.99          10                 1  \n",
       "192     44.62          20                 1  \n",
       "198     44.79          30                 1  \n",
       "204     44.83          40                 1  \n",
       "210     44.83          50                 1  "
      ]
     },
     "execution_count": 3,
     "metadata": {},
     "output_type": "execute_result"
    }
   ],
   "source": [
    "rid_by_stop_df = pull_ridership_by_stop(line_number)\n",
    "rid_by_stop_df.head()"
   ]
  },
  {
   "cell_type": "code",
   "execution_count": null,
   "metadata": {
    "scrolled": true
   },
   "outputs": [],
   "source": [
    "df_dwell_runtime, df_stop_path_length, df_min_travel_time = dwell_runtime(line_number, days_to_consider)"
   ]
  },
  {
   "cell_type": "code",
   "execution_count": null,
   "metadata": {},
   "outputs": [],
   "source": [
    "rid_dwell = pd.merge(pd.merge(pd.merge(rid_by_stop_df,df_dwell_runtime,how='outer'),df_stop_path_length, how='outer'),df_min_travel_time, how='outer')"
   ]
  },
  {
   "cell_type": "code",
   "execution_count": null,
   "metadata": {},
   "outputs": [],
   "source": [
    "# Midday - 9 to 2:30\n",
    "# PM Peak - 2:30 to 6:30\n",
    "# PM Late - 6:30 to 9:59\n",
    "# PM Nite - 10pm to 12pm\n",
    "# PM Nite - 12am to 3am"
   ]
  },
  {
   "cell_type": "code",
   "execution_count": null,
   "metadata": {
    "scrolled": true
   },
   "outputs": [],
   "source": [
    "frames = []\n",
    "\n",
    "df = pull_early_late_by_stop('22',SWIFTLY_API_KEY, dateRange = '10012017-10302017', timeRange = '0300-0459')\n",
    "df['TIME_PERIOD'] = 'AM Early'\n",
    "frames.append(df)\n",
    "time.sleep(10)\n",
    "df = pull_early_late_by_stop('22',SWIFTLY_API_KEY, dateRange = '10012017-10302017', timeRange = '0500-0829')\n",
    "df['TIME_PERIOD'] = 'AM Peak'\n",
    "frames.append(df)\n",
    "time.sleep(10)\n",
    "df = pull_early_late_by_stop('22',SWIFTLY_API_KEY, dateRange = '10012017-10302017', timeRange = '0900-1429')\n",
    "df['TIME_PERIOD'] = 'Midday'\n",
    "frames.append(df)\n",
    "time.sleep(10)\n",
    "df = pull_early_late_by_stop('22',SWIFTLY_API_KEY, dateRange = '10012017-10302017', timeRange = '1430-1829')\n",
    "df['TIME_PERIOD'] = 'PM Peak'\n",
    "frames.append(df)\n",
    "time.sleep(10)\n",
    "# df = pull_early_late_by_stop('22',SWIFTLY_API_KEY, dateRange = '10012017-10302017', timeRange = '1830-2159')\n",
    "df = pull_early_late_by_stop('22',SWIFTLY_API_KEY, dateRange = '10012017-10302017', timeRange = '1830-2200')\n",
    "df['TIME_PERIOD'] = 'PM Late'\n",
    "frames.append(df)\n",
    "time.sleep(10)\n",
    "df = pull_early_late_by_stop('22',SWIFTLY_API_KEY, dateRange = '10012017-10302017', timeRange = '2200-2359')\n",
    "df['TIME_PERIOD'] = 'PM Nite'\n",
    "frames.append(df)\n",
    "time.sleep(10)\n",
    "df = pull_early_late_by_stop('22',SWIFTLY_API_KEY, dateRange = '10012017-10302017', timeRange = '0000-0259')\n",
    "df['TIME_PERIOD'] = 'PM Nite'\n",
    "frames.append(df)"
   ]
  },
  {
   "cell_type": "code",
   "execution_count": null,
   "metadata": {
    "scrolled": true
   },
   "outputs": [],
   "source": [
    "times = pd.concat(frames)\n",
    "times['TIMEPOINT'] = True\n",
    "del times['direction_id']\n",
    "bus_df = pd.merge(rid_dwell,times, how='outer', on=['STOP_ID','DIRECTION_NAME','TIME_PERIOD'])\n",
    "# bus_df.to_csv(\"bus_analysis.csv\",index=False)\n",
    "# bus_df.head()\n",
    "times.head()"
   ]
  },
  {
   "cell_type": "code",
   "execution_count": null,
   "metadata": {},
   "outputs": [],
   "source": [
    "stops_visited_counts, trips_sampled_count = stop_frequency_percent(connection, line_number, days_to_consider, date_range= \"'2017-10-01' and '2017-11-1'\")\n",
    "del stops_visited_counts['current_route_id']\n",
    "del trips_sampled_count['current_route_id']"
   ]
  },
  {
   "cell_type": "code",
   "execution_count": null,
   "metadata": {},
   "outputs": [],
   "source": [
    "bus_df_frequency = pd.merge(pd.merge(rid_dwell, stops_visited_counts, how=\"outer\"),trips_sampled_count, how=\"outer\")\n",
    "# stop_frequency['percent_stopped'] = (stop_frequency['number_of_times_stopped']/stop_frequency['total_trips_sampled']).round(2)\n",
    "# bus_df_frequency['percent_stopped'] = (bus_df_frequency['number_of_times_stopped'].dividebus_df_frequency['total_trips_sampled']).round(2)\n",
    "bus_df_frequency['percent_stopped'] = (bus_df_frequency['number_of_times_stopped'].divide(bus_df_frequency['total_trips_sampled'],fill_value=0)).round(2)"
   ]
  },
  {
   "cell_type": "code",
   "execution_count": null,
   "metadata": {},
   "outputs": [],
   "source": [
    "bus_df_frequency['travel_speed_meters_second'] = (bus_df_frequency['stop_path_length_meters']/bus_df_frequency['travel_time_secs_mean']).round(2)\n",
    "bus_df_frequency['travel_speed_miles_per_hour'] = ((bus_df_frequency['stop_path_length_meters']/bus_df_frequency['travel_time_secs_mean'])*2.23694).round(1)"
   ]
  },
  {
   "cell_type": "code",
   "execution_count": null,
   "metadata": {},
   "outputs": [],
   "source": [
    "bus_df_frequency.to_csv(\"bus_stop_data_analysis_dwell.csv\",index=False)"
   ]
  },
  {
   "cell_type": "code",
   "execution_count": null,
   "metadata": {},
   "outputs": [],
   "source": []
  }
 ],
 "metadata": {
  "kernelspec": {
   "display_name": "Python 3",
   "language": "python",
   "name": "python3"
  },
  "language_info": {
   "codemirror_mode": {
    "name": "ipython",
    "version": 3
   },
   "file_extension": ".py",
   "mimetype": "text/x-python",
   "name": "python",
   "nbconvert_exporter": "python",
   "pygments_lexer": "ipython3",
   "version": "3.5.4"
  }
 },
 "nbformat": 4,
 "nbformat_minor": 2
}
