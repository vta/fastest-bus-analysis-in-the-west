{
 "cells": [
  {
   "cell_type": "code",
   "execution_count": null,
   "metadata": {},
   "outputs": [],
   "source": [
    "import geopandas as gpd\n",
    "import requests\n",
    "import pandas as pd\n",
    "\n",
    "# url = 'https://opendata.arcgis.com/datasets/490db54636704d35aae661a12c12e9a0_0.geojson'\n",
    "# r = requests.get(url, allow_redirects=True)\n",
    "# open('Bus_Stop_Inventory.geojson', 'wb').write(r.content)\n",
    "geo_df = gpd.read_file('Bus_Stop_Inventory.geojson')"
   ]
  },
  {
   "cell_type": "code",
   "execution_count": null,
   "metadata": {
    "scrolled": false
   },
   "outputs": [],
   "source": [
    "import pandas as pd\n",
    "import glob\n",
    "import geopandas as gpd\n",
    "\n",
    "routes_shapes = gpd.read_file('routes_shapes.geojson')\n",
    "crs = routes_shapes.crs\n",
    "routes_shapes['routeShortName'] = routes_shapes['routeShortName'].astype(int)\n",
    "routes_shapes['directionId'] = routes_shapes['directionId'].astype(int)\n",
    "routes_shapes['stopId'] = routes_shapes['stopId'].astype(int)\n",
    "frames = []\n",
    "stops_frames = []\n",
    "missing_rows = []\n",
    "\n",
    "allFiles = glob.glob('.' + \"/results/*.csv\")\n",
    "for file_ in allFiles:\n",
    "    print(file_)\n",
    "    df = pd.read_csv(file_)\n",
    "    route_id = df['route_id'].value_counts().reset_index().head(1)['index'].values[0]\n",
    "    df['route_id'] = route_id  #alternatively df = df.loc[df['route_id'].dropna().index,]\n",
    "    df = df.query(\"TIME_PERIOD=='AM Peak'|TIME_PERIOD=='PM Peak'\")\n",
    "    df = df.sort_values(by=['TIME_PERIOD','DIRECTION_NAME','SORT_ORDER'])\n",
    "    df['travel delay'] = df['travel_time_secs_mean'] - df['travel_time_min_secs']\n",
    "    df['activity'] = df['BOARD_ALL'] + df['ALIGHT_ALL']\n",
    "    df['activity divided by dwell'] = df['activity']/df['dwell_time_secs_mean']\n",
    "    #df['total_sec_delay'] = df['LOAD_ALL']*df['delay_secs_mean'].shift(periods=-1)\n",
    "    df['distance to next stop'] = df['stop_path_length_meters']*[3.28084]\n",
    "    df['distance to next stop'] =  df['distance to next stop'].shift(periods=-1)\n",
    "    df['travel_speed_miles_per_hour'] =  df['travel_speed_miles_per_hour'].shift(periods=-1)\n",
    "    df['travel_time_secs_mean'] =  df['travel_time_secs_mean'].shift(periods=-1)\n",
    "    df['travel_time_min_secs'] =  df['travel_time_min_secs'].shift(periods=-1)\n",
    "    df['travel delay'] =  df['travel delay'].shift(periods=-1)\n",
    "    df['travel_time_secs_std'] =  df['travel_time_secs_std'].shift(periods=-1)\n",
    "    df['boardings per Obs'] = df['BOARD_ALL']/df['percent_stopped']\n",
    "    df['alightings per Obs'] = df['ALIGHT_ALL']/df['percent_stopped']\n",
    "    df['activity per Obs'] = df['activity']/df['percent_stopped']\n",
    "    df['dwell seconds times load'] = df['dwell_time_secs_mean']*df['LOAD_ALL']\n",
    "    df['load divided by ob activity'] = df['LOAD_ALL']/df['activity per Obs']\n",
    "    df['Load times travel delay'] = df['LOAD_ALL']*df['travel delay']\n",
    "\n",
    "\n",
    "    df_csv = df.sort_values(by=['TIME_PERIOD','DIRECTION_NAME','SORT_ORDER'])\n",
    "    columns_to_keep = ['STOP_ID', 'TIME_PERIOD','DIRECTION_NAME','SORT_ORDER','BOARD_ALL', 'ALIGHT_ALL', 'activity','dwell_time_secs_mean', 'dwell_time_secs_std', 'percent_stopped',\n",
    "                       'boardings per Obs', 'alightings per Obs', 'activity per Obs', 'distance to next stop', 'travel_speed_miles_per_hour', 'travel_time_secs_mean', 'travel_time_min_secs', 'travel delay', \n",
    "                       'travel_time_secs_std', 'LOAD_ALL', 'dwell seconds times load', 'load divided by ob activity', 'activity divided by dwell', 'Load times travel delay']\n",
    "    df_csv = df_csv[columns_to_keep]\n",
    "    df_csv.rename(columns={'STOP_ID':'stop id','sec_per_activity':'seconds per activity', 'total_sec_delay':'Total Passanger Delay', \n",
    "                       'travel_time_min_secs':'minimum travel time', 'TIME_PERIOD':'time period', 'DIRECTION_NAME':'direction name', 'SORT_ORDER':'sort order',\n",
    "                       'travel_time_secs_mean':'travel time', 'travel_time_secs_std':'travel time STD', 'delay_secs_mean':'delay time',\n",
    "                       'travel_speed_miles_per_hour':'MPH','dwell_time_secs_mean':'dwell time', 'dwell_time_secs_std':'dwell time std', \n",
    "                       'BOARD_ALL': 'Boardings','ALIGHT_ALL':'Alightings', 'LOAD_ALL':'Load', },inplace=True)\n",
    "\n",
    "    df_csv = pd.merge(df_csv,geo_df[['trapeze_id','stopname']],left_on=['stop id'],right_on=['trapeze_id'])\n",
    "\n",
    "    df_csv.to_csv(\"fast_output/fast_output_\" + file_.split('_')[-1], index=False)\n",
    "    frames.append(df_csv.copy())\n",
    "\n",
    "    stops_columns_to_keep = ['stop id', 'time period', 'direction name', 'Boardings',\n",
    "       'Alightings', 'activity', 'dwell time', 'dwell time std',\n",
    "       'percent_stopped', 'boardings per Obs', 'alightings per Obs',\n",
    "       'activity per Obs', 'distance to next stop', 'Load',\n",
    "       'dwell seconds times load', 'load divided by ob activity',\n",
    "       'activity divided by dwell', 'trapeze_id',\n",
    "       'stopname']    \n",
    "    df_stops_geojson = pd.merge(df_csv[stops_columns_to_keep],geo_df[['trapeze_id','rtiid', 'geometry']],left_on=['stop id'],right_on=['trapeze_id'])\n",
    "    stops_frames.append(df_stops_geojson)\n",
    "    \n",
    "    #     copy_df = shape_data_df.copy()\n",
    "#     frames.append(shapes_data.copy())\n",
    "\n",
    "    shapes_data = pd.merge(df, routes_shapes, left_on=['route_id','direction_id','STOP_ID'],right_on=['routeShortName','directionId','stopId'], how='left')\n",
    "#     shapes_data = shapes_data.loc[~shapes_data['geometry'].isnull(),]\n",
    "#     data_df = gpd.GeoDataFrame(shapes_data, crs = crs).set_geometry(shapes_data['geometry'])\n",
    "\n",
    "#     stops_columns_to_keep = ['stop id', 'stopname', 'TIME_PERIOD','DIRECTION_NAME','SORT_ORDER','BOARD_ALL', 'ALIGHT_ALL', 'activity','dwell_time_secs_mean', 'dwell_time_secs_std', 'percent_stopped',\n",
    "#                        'boardings per Obs', 'alightings per Obs', 'activity per Obs',  \n",
    "#                        'LOAD_ALL', 'dwell seconds times load', 'load divided by ob activity', 'activity divided by dwell']\n",
    "#     df_stop = df_csv[stops_columns_to_keep]\n",
    "#     df_stop.rename(columns={'STOP_ID':'stop id','sec_per_activity':'seconds per activity', 'total_sec_delay':'Total Passanger Delay', \n",
    "#                        'travel_time_min_secs':'minimum travel time', 'TIME_PERIOD':'time period', 'DIRECTION_NAME':'direction name', 'SORT_ORDER':'sort order',\n",
    "#                        'travel_time_secs_mean':'travel time', 'travel_time_secs_std':'travel time STD', 'delay_secs_mean':'delay time',\n",
    "#                        'travel_speed_miles_per_hour':'MPH','dwell_time_secs_mean':'dwell time', 'dwell_time_secs_std':'dwell time std', \n",
    "#                        'BOARD_ALL': 'Boardings','ALIGHT_ALL':'Alightings', 'LOAD_ALL':'Load', },inplace=True)    \n",
    "    \n",
    "    \n",
    "    \n",
    "#     df_stops_geojson = pd.merge(df[stops_columns_to_keep],geo_df[['trapeze_id','stopname','rtiid', 'geometry']],left_on=['STOP_ID'],right_on=['trapeze_id'])\n",
    "#     stops_frames.append(df_stops_geojson)\n",
    "#     missing_row = pd.merge(df, routes_shapes, left_on=['route_id','direction_id','STOP_ID'],right_on=['routeShortName','directionId','stopId'], how='left', indicator=True).query(\"_merge!='both'\")\n",
    "#     missing_rows.append(missing_row)\n",
    "\n",
    "pd.concat(frames,ignore_index=True).to_csv(\"fast_output/full_routes.csv\",index=False)\n",
    "\n",
    "pd.concat(stops_frames,ignore_index=True)\n",
    "stops_df = pd.concat(stops_frames,ignore_index=True)\n",
    "stops_df = gpd.GeoDataFrame(stops_df, crs = crs).set_geometry(stops_df['geometry'])\n",
    "stops_df.to_file('fast_output_test/stops_df.geojson',driver='GeoJSON')\n",
    "stops_df.to_file('fast_output_test/stops_df',driver='ESRI Shapefile')"
   ]
  },
  {
   "cell_type": "code",
   "execution_count": null,
   "metadata": {},
   "outputs": [],
   "source": [
    "print(len(routes_shapes.query(\"routeShortName==%s\"%(route_id))))\n",
    "print(len(pd.merge(df, routes_shapes, left_on=['route_id','direction_id','STOP_ID'],right_on=['routeShortName','directionId','stopId'], how='left')))\n",
    "print(len(pd.merge(df, routes_shapes, left_on=['route_id','direction_id','STOP_ID'],right_on=['routeShortName','directionId','stopId'], how='inner')))\n"
   ]
  },
  {
   "cell_type": "code",
   "execution_count": null,
   "metadata": {},
   "outputs": [],
   "source": [
    "pd.merge(df, routes_shapes, left_on=['route_id','direction_id','STOP_ID'],right_on=['routeShortName','directionId','stopId'], how='left', indicator=True).query(\"_merge!='both'\")"
   ]
  },
  {
   "cell_type": "code",
   "execution_count": null,
   "metadata": {},
   "outputs": [],
   "source": [
    "pd.concat(missing_rows).to_csv('missing_data_rows.csv',index=False)"
   ]
  },
  {
   "cell_type": "code",
   "execution_count": null,
   "metadata": {},
   "outputs": [],
   "source": [
    "shape_data_df_frames = pd.concat(frames,ignore_index=True)\n",
    "shape_data_df_frames = gpd.GeoDataFrame(shape_data_df_frames, crs = crs)\n",
    "shape_data_df_frames = shape_data_df_frames.set_geometry(shape_data_df_frames['geometry'])"
   ]
  },
  {
   "cell_type": "code",
   "execution_count": null,
   "metadata": {},
   "outputs": [],
   "source": [
    "shape_data_df_frames.route_id.unique()"
   ]
  },
  {
   "cell_type": "code",
   "execution_count": null,
   "metadata": {},
   "outputs": [],
   "source": [
    "shape_data_df_frames.to_file('shape_data_df_frames.geojson',driver='GeoJSON')"
   ]
  },
  {
   "cell_type": "code",
   "execution_count": null,
   "metadata": {},
   "outputs": [],
   "source": [
    "shape_data_df_frames.to_file('shape_data_df_frames',driver='ESRI Shapefile')"
   ]
  },
  {
   "cell_type": "code",
   "execution_count": null,
   "metadata": {},
   "outputs": [],
   "source": [
    "routes_shapes['directionId'].unique()"
   ]
  },
  {
   "cell_type": "code",
   "execution_count": null,
   "metadata": {},
   "outputs": [],
   "source": [
    "shapes_data = pd.merge(df, routes_shapes, left_on=['route_id','direction_id','STOP_ID'],right_on=['routeShortName','directionId','stopId'], how='left')\n",
    "shapes_data = gpd.GeoDataFrame(shapes_data, crs = crs)\n",
    "shapes_data = shapes_data.set_geometry(shapes_data['geometry'])\n",
    "frames.append(shapes_data)"
   ]
  },
  {
   "cell_type": "code",
   "execution_count": null,
   "metadata": {},
   "outputs": [],
   "source": [
    "shapes_data.to_file('shapes_data.geojson',driver='GeoJSON')"
   ]
  }
 ],
 "metadata": {
  "kernelspec": {
   "display_name": "Python 3",
   "language": "python",
   "name": "python3"
  },
  "language_info": {
   "codemirror_mode": {
    "name": "ipython",
    "version": 3
   },
   "file_extension": ".py",
   "mimetype": "text/x-python",
   "name": "python",
   "nbconvert_exporter": "python",
   "pygments_lexer": "ipython3",
   "version": "3.6.4"
  }
 },
 "nbformat": 4,
 "nbformat_minor": 2
}
