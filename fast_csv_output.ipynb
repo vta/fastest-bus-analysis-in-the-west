{
 "cells": [
  {
   "cell_type": "code",
   "execution_count": null,
   "metadata": {},
   "outputs": [],
   "source": [
    "import pandas as pd\n",
    "import glob\n",
    "\n",
    "allFiles = glob.glob('.' + \"/results/*.csv\")\n",
    "for file_ in allFiles:\n",
    "    df = pd.read_csv(file_)\n",
    "    df = df.query(\"TIME_PERIOD=='AM Peak'|TIME_PERIOD=='PM Peak'\")\n",
    "    df['delay_secs_mean'] = df['travel_time_secs_mean'] - df['travel_time_min_secs']\n",
    "    df['activity'] = df['BOARD_ALL'] + df['ALIGHT_ALL']\n",
    "    df['sec_per_activity'] = df['activity']/df['dwell_time_secs_mean']\n",
    "    df['sec_per_delay'] = df['LOAD_ALL']/df['delay_secs_mean']\n",
    "    columns_to_keep = ['STOP_ID','TIME_PERIOD','DIRECTION_NAME','SORT_ORDER','travel_time_secs_mean',\n",
    "                       'travel_speed_miles_per_hour','travel_time_secs_std','travel_time_min_secs', 'delay_secs_mean','dwell_time_secs_mean',\n",
    "                       'dwell_time_secs_std','BOARD_ALL','ALIGHT_ALL', 'LOAD_ALL', 'activity','sec_per_delay', 'AVG_SERVICED', 'sec_per_activity', 'percent_stopped']\n",
    "    df[columns_to_keep].to_csv(\"fast_output/fast_output_\" + file_.split('_')[-1], header=False)"
   ]
  },
  {
   "cell_type": "code",
   "execution_count": null,
   "metadata": {},
   "outputs": [],
   "source": []
  },
  {
   "cell_type": "code",
   "execution_count": null,
   "metadata": {},
   "outputs": [],
   "source": []
  }
 ],
 "metadata": {
  "kernelspec": {
   "display_name": "Python 3",
   "language": "python",
   "name": "python3"
  },
  "language_info": {
   "codemirror_mode": {
    "name": "ipython",
    "version": 3
   },
   "file_extension": ".py",
   "mimetype": "text/x-python",
   "name": "python",
   "nbconvert_exporter": "python",
   "pygments_lexer": "ipython3",
   "version": "3.5.4"
  }
 },
 "nbformat": 4,
 "nbformat_minor": 2
}
