{
 "cells": [
  {
   "cell_type": "code",
   "execution_count": 1,
   "metadata": {},
   "outputs": [],
   "source": [
    "import geopandas as gpd\n",
    "import requests\n",
    "import pandas as pd\n",
    "\n",
    "url = 'https://opendata.arcgis.com/datasets/490db54636704d35aae661a12c12e9a0_0.geojson'\n",
    "r = requests.get(url, allow_redirects=True)\n",
    "open('Bus_Stop_Inventory.geojson', 'wb').write(r.content)\n",
    "geo_df = gpd.read_file('Bus_Stop_Inventory.geojson')"
   ]
  },
  {
   "cell_type": "code",
   "execution_count": 24,
   "metadata": {
    "scrolled": false
   },
   "outputs": [],
   "source": [
    "# geo_df.loc[geo_df['trapeze_id'].isnull(),]['trapeze_status'].value_counts()"
   ]
  },
  {
   "cell_type": "code",
   "execution_count": 29,
   "metadata": {},
   "outputs": [],
   "source": [
    "import pandas as pd\n",
    "import glob\n",
    "\n",
    "allFiles = glob.glob('.' + \"/results/*.csv\")\n",
    "for file_ in allFiles:\n",
    "    df = pd.read_csv(file_)\n",
    "    df = df.query(\"TIME_PERIOD=='AM Peak'|TIME_PERIOD=='PM Peak'\")\n",
    "    df = df.sort_values(by=['TIME_PERIOD','DIRECTION_NAME','SORT_ORDER'])\n",
    "    df['delay_secs_mean'] = df['travel_time_secs_mean'] - df['travel_time_min_secs']\n",
    "    df['activity'] = df['BOARD_ALL'] + df['ALIGHT_ALL']\n",
    "    df['sec_per_activity'] = df['activity']/df['dwell_time_secs_mean']\n",
    "    df['sec_per_delay'] = df['LOAD_ALL']/df['dwell_time_secs_mean'].shift(periods=-1)\n",
    "    df = pd.merge(df,geo_df[['trapeze_id','stopname']],left_on=['STOP_ID'],right_on=['trapeze_id'])\n",
    "    df = df.sort_values(by=['TIME_PERIOD','DIRECTION_NAME','SORT_ORDER'])\n",
    "    columns_to_keep = ['STOP_ID','stopname','TIME_PERIOD','DIRECTION_NAME','SORT_ORDER','travel_time_secs_mean',\n",
    "                       'travel_speed_miles_per_hour','travel_time_secs_std','travel_time_min_secs', 'delay_secs_mean','dwell_time_secs_mean',\n",
    "                       'dwell_time_secs_std','BOARD_ALL','ALIGHT_ALL', 'LOAD_ALL', 'activity','sec_per_delay', 'AVG_SERVICED', 'sec_per_activity', 'percent_stopped']\n",
    "    df[columns_to_keep].to_csv(\"fast_output/fast_output_\" + file_.split('_')[-1], index=False)"
   ]
  },
  {
   "cell_type": "code",
   "execution_count": null,
   "metadata": {},
   "outputs": [],
   "source": []
  }
 ],
 "metadata": {
  "kernelspec": {
   "display_name": "Python 3",
   "language": "python",
   "name": "python3"
  },
  "language_info": {
   "codemirror_mode": {
    "name": "ipython",
    "version": 3
   },
   "file_extension": ".py",
   "mimetype": "text/x-python",
   "name": "python",
   "nbconvert_exporter": "python",
   "pygments_lexer": "ipython3",
   "version": "3.6.4"
  }
 },
 "nbformat": 4,
 "nbformat_minor": 2
}
